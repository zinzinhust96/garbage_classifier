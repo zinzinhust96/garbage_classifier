{
 "cells": [
  {
   "cell_type": "code",
   "execution_count": 1,
   "metadata": {},
   "outputs": [
    {
     "name": "stdout",
     "output_type": "stream",
     "text": [
      "Loading model:  /home/namdng/garbage_classifier/models/resnet50_tuned_lr_1e-3_bs_64_sche-f0.2-p6/ckpt_57_0.9597.pth\n",
      "tensor([[ -0.6570,   0.2405,  -9.7473,   4.9803,  -2.1334],\n",
      "        [ -2.1151,   0.4455,  -9.6111,   5.8562,  -1.5623],\n",
      "        [ -0.1978,   0.0618, -10.4337,   4.8975,  -2.3741],\n",
      "        [ -1.3153,   0.1393, -10.4668,   6.0580,  -2.0621]],\n",
      "       grad_fn=<AddmmBackward0>)\n"
     ]
    }
   ],
   "source": [
    "import torch\n",
    "import torch.nn as nn\n",
    "import torch.onnx\n",
    "import torchvision\n",
    "\n",
    "from quantize_utils import static_quantize_model\n",
    "import hyperparams as hparams\n",
    "from model import load_model\n",
    "\n",
    "MODEL_PATH = \"/home/namdng/garbage_classifier/models/resnet50_tuned_lr_1e-3_bs_64_sche-f0.2-p6/ckpt_57_0.9597.pth\"\n",
    "BATCH_SIZE = 4\n",
    "\n",
    "device = \"cpu\"\n",
    "\n",
    "### Load model\n",
    "class_names = [\"cardboard_paper\", \"glass\", \"metal\", \"others\", \"plastic\"]\n",
    "model_conv = load_model(hparams.BACKBONE, hparams.NUM_IMMEDIATE_FEATURES, len(class_names), hparams.DROPOUT_RATE)\n",
    "if \"quantize\" in MODEL_PATH:\n",
    "    device = \"cpu\"\n",
    "    model_conv = static_quantize_model(model_conv, dataloader=None, backend=\"fbgemm\")\n",
    "\n",
    "print(\"Loading model: \", MODEL_PATH)\n",
    "model_conv.load_state_dict(torch.load(MODEL_PATH, weights_only=True))\n",
    "model_conv = model_conv.to(device)\n",
    "model_conv.eval()\n",
    "\n",
    "# Input to the model\n",
    "x = torch.randn(BATCH_SIZE, 3, hparams.IMAGE_SIZE, hparams.IMAGE_SIZE, device=device)\n",
    "torch_out = model_conv(x)\n",
    "print(torch_out)\n",
    "\n"
   ]
  },
  {
   "cell_type": "markdown",
   "metadata": {},
   "source": [
    "### TorchScript-based ONNX Exporter"
   ]
  },
  {
   "cell_type": "code",
   "execution_count": 2,
   "metadata": {},
   "outputs": [],
   "source": [
    "# Export the model\n",
    "torch.onnx.export(model_conv,                # model being run\n",
    "                  x,                         # model input (or a tuple for multiple inputs)\n",
    "                  \"gc_torchscript.onnx\",                 # where to save the model (can be a file or file-like object)\n",
    "                  export_params=True,        # store the trained parameter weights inside the model file\n",
    "                  opset_version=10,          # the ONNX version to export the model to\n",
    "                  do_constant_folding=True,  # whether to execute constant folding for optimization\n",
    "                  input_names = ['input'],   # the model's input names\n",
    "                  output_names = ['output'], # the model's output names\n",
    "                  dynamic_axes={'input' : {0 : 'batch_size'},    # variable length axes\n",
    "                                'output' : {0 : 'batch_size'}})"
   ]
  },
  {
   "cell_type": "markdown",
   "metadata": {},
   "source": [
    "### TorchDynamo-based ONNX Exporter"
   ]
  },
  {
   "cell_type": "code",
   "execution_count": null,
   "metadata": {},
   "outputs": [],
   "source": [
    "onnx_program = torch.onnx.export(model_conv, x, dynamo=True)\n",
    "onnx_program.save(\"gc_torchdynamo.onnx\")"
   ]
  },
  {
   "cell_type": "code",
   "execution_count": null,
   "metadata": {},
   "outputs": [],
   "source": [
    "import onnxruntime\n",
    "import numpy as np\n",
    "\n",
    "ort_session = onnxruntime.InferenceSession(\"gc_torchscript.onnx\", providers=[\"CPUExecutionProvider\"])\n",
    "\n",
    "def to_numpy(tensor):\n",
    "    return tensor.detach().cpu().numpy() if tensor.requires_grad else tensor.cpu().numpy()\n",
    "\n",
    "# compute ONNX Runtime output prediction\n",
    "ort_inputs = {ort_session.get_inputs()[0].name: to_numpy(x)}\n",
    "ort_outs = ort_session.run(None, ort_inputs)\n",
    "\n",
    "print(to_numpy(torch_out), ort_outs[0])\n",
    "\n",
    "# compare ONNX Runtime and PyTorch results\n",
    "np.testing.assert_allclose(to_numpy(torch_out), ort_outs[0], rtol=1e-03, atol=1e-05)\n",
    "\n",
    "print(\"Exported model has been tested with ONNXRuntime, and the result looks good!\")"
   ]
  },
  {
   "cell_type": "markdown",
   "metadata": {},
   "source": [
    "### convert test images to RGB"
   ]
  },
  {
   "cell_type": "code",
   "execution_count": null,
   "metadata": {},
   "outputs": [],
   "source": [
    "import os\n",
    "from PIL import Image\n",
    "\n",
    "DATA_DIR = \"data_split/val\"\n",
    "\n",
    "for class_name in os.listdir(DATA_DIR):\n",
    "    class_dir = os.path.join(DATA_DIR, class_name)\n",
    "    for image_name in os.listdir(class_dir):\n",
    "        image_path = os.path.join(class_dir, image_name)\n",
    "        image = Image.open(image_path)\n",
    "        image_mode = image.mode\n",
    "        if image_mode != \"RGB\":\n",
    "            image = image.convert(\"RGB\")\n",
    "            image.save(image_path)"
   ]
  },
  {
   "cell_type": "code",
   "execution_count": null,
   "metadata": {},
   "outputs": [],
   "source": []
  }
 ],
 "metadata": {
  "kernelspec": {
   "display_name": "vision",
   "language": "python",
   "name": "python3"
  },
  "language_info": {
   "codemirror_mode": {
    "name": "ipython",
    "version": 3
   },
   "file_extension": ".py",
   "mimetype": "text/x-python",
   "name": "python",
   "nbconvert_exporter": "python",
   "pygments_lexer": "ipython3",
   "version": "3.11.10"
  }
 },
 "nbformat": 4,
 "nbformat_minor": 2
}
